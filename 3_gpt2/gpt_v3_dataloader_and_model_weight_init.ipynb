{
 "cells": [
  {
   "cell_type": "code",
   "execution_count": 1,
   "metadata": {},
   "outputs": [],
   "source": [
    "import os; os.chdir('..')\n",
    "import numpy as np\n",
    "from dataclasses import dataclass\n",
    "import torch\n",
    "from torch import nn\n",
    "from torch.nn import functional as F\n",
    "# from transformers import GPT2LMHeadModel\n",
    "import matplotlib.pyplot as plt \n",
    "\n",
    "# from tqdm import tqdm, trange\n",
    "from tqdm.notebook import tqdm\n",
    "\n",
    "from utils import *; from boring_utils.utils import *\n",
    "from data_structure import add_to_class\n",
    "\n",
    "from hf_gpt import (\n",
    "    Block\n",
    ")\n",
    "\n",
    "init_graph()\n",
    "device = get_device()"
   ]
  },
  {
   "cell_type": "markdown",
   "metadata": {},
   "source": [
    "# Load Tiny Dataset"
   ]
  },
  {
   "cell_type": "code",
   "execution_count": 2,
   "metadata": {},
   "outputs": [
    {
     "name": "stdout",
     "output_type": "stream",
     "text": [
      "First Citizen:\n",
      "Before we proceed any further, hear me speak.\n",
      "\n",
      "All:\n",
      "Speak, speak.\n",
      "\n",
      "First Citizen:\n",
      "You\n"
     ]
    }
   ],
   "source": [
    "# tiny shakespeare dataset\n",
    "# !wget https://raw.githubusercontent.com/karpathy/char-rnn/master/data/tinyshakespeare/input.txt\n",
    "with open('./data/shakespeare_char/input.txt', 'r') as f:\n",
    "    text = f.read()\n",
    "data = text[:1000]  # first 1,000 characters\n",
    "print(data[:100])"
   ]
  },
  {
   "cell_type": "code",
   "execution_count": 3,
   "metadata": {},
   "outputs": [
    {
     "name": "stdout",
     "output_type": "stream",
     "text": [
      "[5962, 22307, 25, 198, 8421, 356, 5120, 597, 2252, 11, 3285, 502, 2740, 13, 198, 198, 3237, 25, 198, 5248, 461, 11, 2740, 13]\n"
     ]
    }
   ],
   "source": [
    "import tiktoken\n",
    "enc = tiktoken.get_encoding('gpt2')\n",
    "tokens = enc.encode(data)\n",
    "print(tokens[:24])"
   ]
  },
  {
   "cell_type": "code",
   "execution_count": 4,
   "metadata": {},
   "outputs": [
    {
     "name": "stdout",
     "output_type": "stream",
     "text": [
      "tensor([[ 5962, 22307,    25,   198,  8421,   356],\n",
      "        [ 5120,   597,  2252,    11,  3285,   502],\n",
      "        [ 2740,    13,   198,   198,  3237,    25],\n",
      "        [  198,  5248,   461,    11,  2740,    13]])\n",
      "tensor([[22307,    25,   198,  8421,   356,  5120],\n",
      "        [  597,  2252,    11,  3285,   502,  2740],\n",
      "        [   13,   198,   198,  3237,    25,   198],\n",
      "        [ 5248,   461,    11,  2740,    13,   198]])\n"
     ]
    }
   ],
   "source": [
    "import torch\n",
    "\n",
    "B, T = 4, 6\n",
    "buff = torch.tensor(tokens[:B * T + 1])\n",
    "\n",
    "# Sequence x, y with one bit shifted as data and label\n",
    "x = buff[:-1].view(B, T)  # torch.tensor(tokens[:24]).view(4, 6)\n",
    "y = buff[1:].view(B, T)\n",
    "print(x)\n",
    "print(y)"
   ]
  },
  {
   "cell_type": "code",
   "execution_count": 5,
   "metadata": {},
   "outputs": [
    {
     "name": "stdout",
     "output_type": "stream",
     "text": [
      "tensor(10.8915, device='cuda:0', grad_fn=<NllLossBackward0>)\n"
     ]
    }
   ],
   "source": [
    "# model = GPT.from_pretrained('gpt2')\n",
    "model = GPT(GPTConfig())\n",
    "model.to(device)\n",
    "logits, loss = model(x.to(device), y.to(device))\n",
    "print(loss)  # if random init, the losss should around -ln(1/50257) = 10.82"
   ]
  },
  {
   "cell_type": "markdown",
   "metadata": {},
   "source": [
    "# Optimizer"
   ]
  },
  {
   "cell_type": "code",
   "execution_count": 11,
   "metadata": {},
   "outputs": [
    {
     "name": "stdout",
     "output_type": "stream",
     "text": [
      "Embedding(50257, 768)\n",
      "Embedding(1024, 768)\n",
      "LayerNorm((768,), eps=1e-05, elementwise_affine=True)\n",
      "LayerNorm((768,), eps=1e-05, elementwise_affine=True)\n",
      "NonDynamicallyQuantizableLinear(in_features=768, out_features=768, bias=True)\n",
      "Linear(in_features=768, out_features=3072, bias=True)\n",
      "Linear(in_features=3072, out_features=768, bias=True)\n",
      "LayerNorm((768,), eps=1e-05, elementwise_affine=True)\n",
      "LayerNorm((768,), eps=1e-05, elementwise_affine=True)\n",
      "NonDynamicallyQuantizableLinear(in_features=768, out_features=768, bias=True)\n",
      "Linear(in_features=768, out_features=3072, bias=True)\n",
      "Linear(in_features=3072, out_features=768, bias=True)\n",
      "LayerNorm((768,), eps=1e-05, elementwise_affine=True)\n",
      "LayerNorm((768,), eps=1e-05, elementwise_affine=True)\n",
      "NonDynamicallyQuantizableLinear(in_features=768, out_features=768, bias=True)\n",
      "Linear(in_features=768, out_features=3072, bias=True)\n",
      "Linear(in_features=3072, out_features=768, bias=True)\n",
      "LayerNorm((768,), eps=1e-05, elementwise_affine=True)\n",
      "LayerNorm((768,), eps=1e-05, elementwise_affine=True)\n",
      "NonDynamicallyQuantizableLinear(in_features=768, out_features=768, bias=True)\n",
      "Linear(in_features=768, out_features=3072, bias=True)\n",
      "Linear(in_features=3072, out_features=768, bias=True)\n",
      "LayerNorm((768,), eps=1e-05, elementwise_affine=True)\n",
      "LayerNorm((768,), eps=1e-05, elementwise_affine=True)\n",
      "NonDynamicallyQuantizableLinear(in_features=768, out_features=768, bias=True)\n",
      "Linear(in_features=768, out_features=3072, bias=True)\n",
      "Linear(in_features=3072, out_features=768, bias=True)\n",
      "LayerNorm((768,), eps=1e-05, elementwise_affine=True)\n",
      "LayerNorm((768,), eps=1e-05, elementwise_affine=True)\n",
      "NonDynamicallyQuantizableLinear(in_features=768, out_features=768, bias=True)\n",
      "Linear(in_features=768, out_features=3072, bias=True)\n",
      "Linear(in_features=3072, out_features=768, bias=True)\n",
      "LayerNorm((768,), eps=1e-05, elementwise_affine=True)\n",
      "LayerNorm((768,), eps=1e-05, elementwise_affine=True)\n",
      "NonDynamicallyQuantizableLinear(in_features=768, out_features=768, bias=True)\n",
      "Linear(in_features=768, out_features=3072, bias=True)\n",
      "Linear(in_features=3072, out_features=768, bias=True)\n",
      "LayerNorm((768,), eps=1e-05, elementwise_affine=True)\n",
      "LayerNorm((768,), eps=1e-05, elementwise_affine=True)\n",
      "NonDynamicallyQuantizableLinear(in_features=768, out_features=768, bias=True)\n",
      "Linear(in_features=768, out_features=3072, bias=True)\n",
      "Linear(in_features=3072, out_features=768, bias=True)\n",
      "LayerNorm((768,), eps=1e-05, elementwise_affine=True)\n",
      "LayerNorm((768,), eps=1e-05, elementwise_affine=True)\n",
      "NonDynamicallyQuantizableLinear(in_features=768, out_features=768, bias=True)\n",
      "Linear(in_features=768, out_features=3072, bias=True)\n",
      "Linear(in_features=3072, out_features=768, bias=True)\n",
      "LayerNorm((768,), eps=1e-05, elementwise_affine=True)\n",
      "LayerNorm((768,), eps=1e-05, elementwise_affine=True)\n",
      "NonDynamicallyQuantizableLinear(in_features=768, out_features=768, bias=True)\n",
      "Linear(in_features=768, out_features=3072, bias=True)\n",
      "Linear(in_features=3072, out_features=768, bias=True)\n",
      "LayerNorm((768,), eps=1e-05, elementwise_affine=True)\n",
      "LayerNorm((768,), eps=1e-05, elementwise_affine=True)\n",
      "NonDynamicallyQuantizableLinear(in_features=768, out_features=768, bias=True)\n",
      "Linear(in_features=768, out_features=3072, bias=True)\n",
      "Linear(in_features=3072, out_features=768, bias=True)\n",
      "LayerNorm((768,), eps=1e-05, elementwise_affine=True)\n",
      "LayerNorm((768,), eps=1e-05, elementwise_affine=True)\n",
      "NonDynamicallyQuantizableLinear(in_features=768, out_features=768, bias=True)\n",
      "Linear(in_features=768, out_features=3072, bias=True)\n",
      "Linear(in_features=3072, out_features=768, bias=True)\n",
      "LayerNorm((768,), eps=1e-05, elementwise_affine=True)\n",
      "Linear(in_features=768, out_features=50257, bias=False)\n"
     ]
    }
   ],
   "source": [
    "# This is how you can resest the parameters of the model\n",
    "for layer in model.modules():\n",
    "    if hasattr(layer, 'reset_parameters'):\n",
    "        print(layer)\n",
    "        layer.reset_parameters()"
   ]
  },
  {
   "cell_type": "code",
   "execution_count": null,
   "metadata": {},
   "outputs": [],
   "source": [
    "def reset_model_weights(model):\n",
    "    for layer in model.modules():\n",
    "        if hasattr(layer, 'reset_parameters'):\n",
    "            layer.reset_parameters()"
   ]
  },
  {
   "cell_type": "markdown",
   "metadata": {},
   "source": [
    "# Single Batch Case"
   ]
  },
  {
   "cell_type": "code",
   "execution_count": 7,
   "metadata": {},
   "outputs": [
    {
     "data": {
      "application/vnd.jupyter.widget-view+json": {
       "model_id": "550864c4eba14a7dbddbb500c5d7f20a",
       "version_major": 2,
       "version_minor": 0
      },
      "text/plain": [
       "Training:   0%|          | 0/50 [00:00<?, ?it/s]"
      ]
     },
     "metadata": {},
     "output_type": "display_data"
    }
   ],
   "source": [
    "reset_model_weights(model)\n",
    "optimizer = torch.optim.AdamW(model.parameters(), lr=3e-4)\n",
    "\n",
    "pbar = tqdm(range(50), desc=\"Training\")\n",
    "for i in pbar:\n",
    "    optimizer.zero_grad()\n",
    "    logits, loss = model(x.to(device), y.to(device))\n",
    "    loss.backward()\n",
    "    optimizer.step()\n",
    "    # tqdm.write(f\"Step {i}, Loss: {loss.item():.4f}\")\n",
    "    pbar.set_description(f\"Step {i}, Loss: {loss.item():.4f}\")"
   ]
  },
  {
   "cell_type": "markdown",
   "metadata": {},
   "source": [
    "# Data Loader"
   ]
  },
  {
   "cell_type": "code",
   "execution_count": 8,
   "metadata": {},
   "outputs": [],
   "source": [
    "def load_tokens(filename):\n",
    "    npt = np.load(filename)\n",
    "    npt = npt.astype(np.int32)  # added after video\n",
    "    ptt = torch.tensor(npt, dtype=torch.long)\n",
    "    return ptt\n",
    "\n",
    "\n",
    "class DataLoaderTiny:\n",
    "    '''A lite version without process_rank and num_processes'''\n",
    "    def __init__(self, B, T):\n",
    "        self.B = B\n",
    "        self.T = T\n",
    "        self.num_processes = 1\n",
    "\n",
    "        with open('./data/shakespeare_char/input.txt', 'r') as f:\n",
    "            text = f.read()\n",
    "        enc = tiktoken.get_encoding('gpt2')\n",
    "        self.tokens = torch.tensor(enc.encode(text))\n",
    "        batch_size = B * T\n",
    "        cprint(len(self.tokens))\n",
    "\n",
    "        print(\"calc: 1 epoch = ? batches\")\n",
    "        cprint(len(self.tokens) // batch_size)\n",
    "\n",
    "        # state\n",
    "        self.current_position = 0\n",
    "\n",
    "    def next_batch(self):\n",
    "        B, T = self.B, self.T\n",
    "        buff = self.tokens[self.current_position: self.current_position + B*T + 1]\n",
    "        x = (buff[:-1]).view(B, T) # inputs\n",
    "        y = (buff[1:]).view(B, T)  # targets\n",
    "\n",
    "        # advance the position in the tensor\n",
    "        self.current_position += B * T * self.num_processes\n",
    "\n",
    "        # if loading the next batch would be out of bounds, reset\n",
    "        if self.current_position + (B * T * self.num_processes + 1) > len(self.tokens):\n",
    "            self.current_position = 0\n",
    "        return x, y\n"
   ]
  },
  {
   "cell_type": "code",
   "execution_count": 9,
   "metadata": {},
   "outputs": [
    {
     "name": "stdout",
     "output_type": "stream",
     "text": [
      "\u001b[93mDataLoaderLite -> len(self.tokens):\u001b[0m\n",
      "338025\n",
      "calc: 1 epoch = ? batches\n",
      "\u001b[93mDataLoaderLite -> len(self.tokens) // batch_size:\u001b[0m\n",
      "2640\n"
     ]
    }
   ],
   "source": [
    "train_loader = DataLoaderTiny(B=4, T=32)"
   ]
  },
  {
   "cell_type": "code",
   "execution_count": 10,
   "metadata": {},
   "outputs": [
    {
     "data": {
      "application/vnd.jupyter.widget-view+json": {
       "model_id": "f593fcfe38ea4fc893583acccb98159d",
       "version_major": 2,
       "version_minor": 0
      },
      "text/plain": [
       "Training:   0%|          | 0/50 [00:00<?, ?it/s]"
      ]
     },
     "metadata": {},
     "output_type": "display_data"
    }
   ],
   "source": [
    "# ok now the loss is lower than 10.82\n",
    "reset_model_weights(model)\n",
    "optimizer = torch.optim.AdamW(model.parameters(), lr=3e-4)\n",
    "\n",
    "pbar = tqdm(range(50), desc=\"Training\")\n",
    "for i in pbar:\n",
    "    optimizer.zero_grad()\n",
    "    x, y = train_loader.next_batch()\n",
    "    logits, loss = model(x.to(device), y.to(device))\n",
    "    loss.backward()\n",
    "    optimizer.step()\n",
    "    # tqdm.write(f\"Step {i}, Loss: {loss.item():.4f}\")\n",
    "    pbar.set_description(f\"Step {i}, Loss: {loss.item():.4f}\")"
   ]
  },
  {
   "cell_type": "markdown",
   "metadata": {},
   "source": [
    "# GPT Improved: Fix Param Sharing\n",
    "https://www.youtube.com/watch?v=l8pRSuU81PU&t=3974s parameter sharing wte and lm_head\n",
    "\n",
    "Check ./gpt-2/src/model.py line 154\n",
    "\n",
    "In hf_gpt.py, simply adding `self.model.transformer.wte.weight = self.lm_head.weight`, \n",
    "that will leads to a better result plus reduce tons of parameters (for gpt2, it's 768 x 50257 = 38.5M)!"
   ]
  },
  {
   "cell_type": "code",
   "execution_count": 12,
   "metadata": {},
   "outputs": [],
   "source": [
    "from transformers import GPT2LMHeadModel\n",
    "model_type = 'gpt2'\n",
    "\n",
    "model_hf = GPT2LMHeadModel.from_pretrained(model_type)\n",
    "sd_hf = model_hf.state_dict()\n",
    "\n",
    "# copy while ensuring all of the parameters are aligned and match in names and shapes\n",
    "sd_keys_hf = sd_hf.keys()"
   ]
  },
  {
   "cell_type": "code",
   "execution_count": 13,
   "metadata": {},
   "outputs": [
    {
     "name": "stdout",
     "output_type": "stream",
     "text": [
      "\u001b[93m<module> -> sd_hf[\"lm_head.weight\"].shape == sd_hf[\"transformer.wte.weight\"].shape:\u001b[0m\n",
      "True\n"
     ]
    }
   ],
   "source": [
    "cprint(sd_hf[\"lm_head.weight\"].shape == sd_hf[\"transformer.wte.weight\"].shape)"
   ]
  },
  {
   "cell_type": "code",
   "execution_count": 15,
   "metadata": {},
   "outputs": [
    {
     "name": "stdout",
     "output_type": "stream",
     "text": [
      "\u001b[93m<module> -> (sd_hf[\"lm_head.weight\"] == sd_hf[\"transformer.wte.weight\"]).all():\u001b[0m\n",
      "tensor(True)\n"
     ]
    }
   ],
   "source": [
    "# every value in the tensor should be the same\n",
    "cprint((sd_hf[\"lm_head.weight\"] == sd_hf[\"transformer.wte.weight\"]).all())"
   ]
  },
  {
   "cell_type": "code",
   "execution_count": 16,
   "metadata": {},
   "outputs": [
    {
     "name": "stdout",
     "output_type": "stream",
     "text": [
      "\u001b[93m<module> -> sd_hf[\"lm_head.weight\"].data_ptr() == sd_hf[\"transformer.wte.weight\"].data_ptr():\u001b[0m\n",
      "True\n"
     ]
    }
   ],
   "source": [
    "# they are even the same tensor in memory\n",
    "cprint(sd_hf[\"lm_head.weight\"].data_ptr() == sd_hf[\"transformer.wte.weight\"].data_ptr())"
   ]
  },
  {
   "cell_type": "markdown",
   "metadata": {},
   "source": [
    "# GPT Improved: Weight Init\n",
    "https://www.youtube.com/watch?v=l8pRSuU81PU&t=4427s\n",
    "\n",
    "Check ./gpt-2/src/model.py line 152\n",
    "\n",
    "```python\n",
    "wpe = tf.get_variable('wpe', [hparams.n_ctx, hparams.n_embd],\n",
    "                     initializer=tf.random_normal_initializer(stddev=0.01))\n",
    "wte = tf.get_variable('wte', [hparams.n_vocab, hparams.n_embd],\n",
    "                     initializer=tf.random_normal_initializer(stddev=0.02))\n",
    "```"
   ]
  },
  {
   "cell_type": "code",
   "execution_count": 17,
   "metadata": {},
   "outputs": [],
   "source": [
    "class GPT(nn.Module):\n",
    "    def __init__(self, config):\n",
    "        super().__init__()\n",
    "        self.config = config\n",
    "\n",
    "        self.transformer = nn.ModuleDict(dict(\n",
    "            wte = nn.Embedding(config.vocab_size, config.n_embd),\n",
    "            wpe = nn.Embedding(config.block_size, config.n_embd),\n",
    "            drop = nn.Dropout(config.dropout),\n",
    "            h = nn.ModuleList([Block(config) for _ in range(config.n_layer)]),\n",
    "            ln_f = nn.LayerNorm(config.n_embd, bias=config.bias)\n",
    "        ))\n",
    "        self.lm_head = nn.Linear(config.n_embd, config.vocab_size, bias=False)\n",
    "\n",
    "        # https://www.youtube.com/watch?v=l8pRSuU81PU&t=3974s parameter sharing wte and lm_head\n",
    "        self.transformer.wte.weight = self.lm_head.weight\n",
    "\n",
    "        self.apply(self._init_weights)\n",
    "\n",
    "    def _init_weights(self, module):\n",
    "        '''\n",
    "        1/sqrt(768) = 0.036 and 1/sqrt(1600) = 0.025\n",
    "        so the value in gpt2 paper 0.02 is reasonable\n",
    "        '''\n",
    "        if isinstance(module, nn.Linear):\n",
    "            torch.nn.init.normal_(module.weight, mean=0.0, std=0.02)\n",
    "            if module.bias is not None:\n",
    "                torch.nn.init.zeros_(module.bias)\n",
    "\n",
    "        elif isinstance(module, nn.Embedding):\n",
    "            torch.nn.init.normal_(module.weight, mean=0.0, std=0.02)\n",
    "    \n",
    "    def forward(self, idx, targets=None):\n",
    "        # idx shape: (B, T)\n",
    "        B, T = idx.size()\n",
    "        assert T <= self.config.block_size, f\"input length {T} is longer than block size {self.config.block_size}\"\n",
    "        # pos = torch.arange(T, device=idx.device).unsqueeze(0).expand(B, T)\n",
    "        pos = torch.arange(0, T, device=idx.device)  # shape: T\n",
    "        pos_emb = self.transformer.wpe(pos)  # shape: (T, n_embd)\n",
    "        tok_emb = self.transformer.wte(idx)  # shape: (B, T, n_embd)\n",
    "        x = tok_emb + pos_emb\n",
    "\n",
    "        for block in self.transformer.h:\n",
    "            x = block(x)\n",
    "        \n",
    "        x = self.transformer.ln_f(x)\n",
    "        logits = self.lm_head(x)  # shape: (B, T, Vocab Size)\n",
    "\n",
    "        if targets is None:\n",
    "            return logits\n",
    "        else:\n",
    "            # logits.view(-1, logits.size(-1)): \n",
    "            # flatten: (B, T, Vocab Size) -> (B * T, Vocab Size) \n",
    "            loss = F.cross_entropy(\n",
    "                        logits.view(-1, logits.size(-1)), \n",
    "                        targets.view(-1)\n",
    "                    )\n",
    "            return logits, loss\n",
    "\n",
    "    @classmethod\n",
    "    def from_pretrained(cls, model_type):\n",
    "        '''https://youtu.be/l8pRSuU81PU?t=1830\n",
    "\n",
    "        I insist using pytorch's MHA instead of HF. So I need a key_mapping dict.\n",
    "        '''\n",
    "        pass"
   ]
  },
  {
   "cell_type": "markdown",
   "metadata": {},
   "source": [
    "From GPT2 paper:\n",
    "\n",
    "A modified initialization which accounts for the accumulation on the residual path with model depth is used. We scale the weights of residual layers **at initialization** by a factor of 1/√N where N is the number of residual layers.\n",
    "\n",
    "In Block class:\n",
    "\n",
    "```python\n",
    "class Block(nn.Module):\n",
    "    ...\n",
    "\n",
    "    def forward(self, x):\n",
    "        x = x + self.attn\n",
    "        x = x + self.mlp\n",
    "        return x\n",
    "```"
   ]
  },
  {
   "cell_type": "code",
   "execution_count": 21,
   "metadata": {},
   "outputs": [],
   "source": [
    "# standard deviation grows inside the residual stream\n",
    "\n",
    "std_list = []\n",
    "\n",
    "for _ in range(5):\n",
    "    x = torch.zeros(768)\n",
    "    n = 100  # e.g. 100 layers\n",
    "\n",
    "    for i in range(n):\n",
    "        x += (1 / n ** 0.5) * torch.randn(768)\n",
    "\n",
    "    std_list.append(x.std())\n",
    "\n",
    "\n",
    "std_list_2 = []\n",
    "\n",
    "for _ in range(5):\n",
    "    x = torch.zeros(768)\n",
    "    n = 100  # e.g. 100 layers\n",
    "\n",
    "    for i in range(n):\n",
    "        x += torch.randn(768)\n",
    "\n",
    "    std_list_2.append(x.std())"
   ]
  },
  {
   "cell_type": "code",
   "execution_count": 22,
   "metadata": {},
   "outputs": [
    {
     "name": "stdout",
     "output_type": "stream",
     "text": [
      "\u001b[93m<module> -> std_list:\u001b[0m\n",
      "[tensor(1.0170), tensor(0.9991), tensor(1.0267), tensor(1.0165), tensor(0.9875)]\n",
      "\u001b[93m<module> -> std_list_2:\u001b[0m\n",
      "[tensor(10.0053),\n",
      " tensor(10.0819),\n",
      " tensor(10.0419),\n",
      " tensor(9.9803),\n",
      " tensor(9.8867)]\n"
     ]
    }
   ],
   "source": [
    "cprint(std_list)\n",
    "cprint(std_list_2)"
   ]
  },
  {
   "cell_type": "code",
   "execution_count": null,
   "metadata": {},
   "outputs": [],
   "source": [
    "class GPT(nn.Module):\n",
    "    def __init__(self, config, scale_init=True):\n",
    "        super().__init__()\n",
    "        self.config = config\n",
    "        self.scale_init = scale_init\n",
    "\n",
    "        self.transformer = nn.ModuleDict(dict(\n",
    "            wte = nn.Embedding(config.vocab_size, config.n_embd),\n",
    "            wpe = nn.Embedding(config.block_size, config.n_embd),\n",
    "            drop = nn.Dropout(config.dropout),\n",
    "            h = nn.ModuleList([Block(config) for _ in range(config.n_layer)]),\n",
    "            ln_f = nn.LayerNorm(config.n_embd, bias=config.bias)\n",
    "        ))\n",
    "        self.lm_head = nn.Linear(config.n_embd, config.vocab_size, bias=False)\n",
    "\n",
    "        # https://www.youtube.com/watch?v=l8pRSuU81PU&t=3974s parameter sharing wte and lm_head\n",
    "        self.transformer.wte.weight = self.lm_head.weight\n",
    "\n",
    "        self.apply(self._init_weights)\n",
    "\n",
    "    def _init_weights(self, module):\n",
    "        '''\n",
    "        1/sqrt(768) = 0.036 and 1/sqrt(1600) = 0.025\n",
    "        so the value in gpt2 paper 0.02 is reasonable\n",
    "        '''\n",
    "        if isinstance(module, nn.Linear):\n",
    "            std = 0.02\n",
    "            if self.scale_init:\n",
    "                # '2 *' is because the two residual connections in the Block:\n",
    "                # attn and mlp\n",
    "                std *= (2 * self.config.n_layer) ** -0.5\n",
    "            torch.nn.init.normal_(module.weight, mean=0.0, std=std)\n",
    "            if module.bias is not None:\n",
    "                torch.nn.init.zeros_(module.bias)\n",
    "\n",
    "        elif isinstance(module, nn.Embedding):\n",
    "            torch.nn.init.normal_(module.weight, mean=0.0, std=0.02)\n",
    "    \n",
    "    def forward(self, idx, targets=None):\n",
    "        # idx shape: (B, T)\n",
    "        B, T = idx.size()\n",
    "        assert T <= self.config.block_size, f\"input length {T} is longer than block size {self.config.block_size}\"\n",
    "        # pos = torch.arange(T, device=idx.device).unsqueeze(0).expand(B, T)\n",
    "        pos = torch.arange(0, T, device=idx.device)  # shape: T\n",
    "        pos_emb = self.transformer.wpe(pos)  # shape: (T, n_embd)\n",
    "        tok_emb = self.transformer.wte(idx)  # shape: (B, T, n_embd)\n",
    "        x = tok_emb + pos_emb\n",
    "\n",
    "        for block in self.transformer.h:\n",
    "            x = block(x)\n",
    "        \n",
    "        x = self.transformer.ln_f(x)\n",
    "        logits = self.lm_head(x)  # shape: (B, T, Vocab Size)\n",
    "\n",
    "        if targets is None:\n",
    "            return logits\n",
    "        else:\n",
    "            # logits.view(-1, logits.size(-1)): \n",
    "            # flatten: (B, T, Vocab Size) -> (B * T, Vocab Size) \n",
    "            loss = F.cross_entropy(\n",
    "                        logits.view(-1, logits.size(-1)), \n",
    "                        targets.view(-1)\n",
    "                    )\n",
    "            return logits, loss\n",
    "\n",
    "    @classmethod\n",
    "    def from_pretrained(cls, model_type):\n",
    "        '''https://youtu.be/l8pRSuU81PU?t=1830\n",
    "\n",
    "        I insist using pytorch's MHA instead of HF. So I need a key_mapping dict.\n",
    "        '''\n",
    "        pass"
   ]
  }
 ],
 "metadata": {
  "kernelspec": {
   "display_name": "torch",
   "language": "python",
   "name": "python3"
  },
  "language_info": {
   "codemirror_mode": {
    "name": "ipython",
    "version": 3
   },
   "file_extension": ".py",
   "mimetype": "text/x-python",
   "name": "python",
   "nbconvert_exporter": "python",
   "pygments_lexer": "ipython3",
   "version": "3.10.12"
  }
 },
 "nbformat": 4,
 "nbformat_minor": 2
}
