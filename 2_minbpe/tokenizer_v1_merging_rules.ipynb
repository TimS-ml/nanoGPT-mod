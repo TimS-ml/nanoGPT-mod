{
 "cells": [
  {
   "cell_type": "markdown",
   "metadata": {},
   "source": [
    "# Merging Rules\n",
    "- https://youtu.be/zduSFxRajkE?t=3463\n",
    "- https://github.com/openai/gpt-2/blob/master/src/encoder.py\n",
    "- https://github.com/openai/tiktoken/blob/main/tiktoken_ext/openai_public.py"
   ]
  },
  {
   "cell_type": "code",
   "execution_count": 2,
   "metadata": {},
   "outputs": [],
   "source": [
    "import os; os.chdir('..')\n",
    "import regex as re\n",
    "from boring_utils.utils import *\n",
    "\n",
    "import tiktoken"
   ]
  },
  {
   "cell_type": "markdown",
   "metadata": {},
   "source": [
    "```\n",
    "r\"\"\"'s|'t|'re|'ve|'m|'ll|'d| ?  匹配一些常见的英语缩略形式,如 's, 't, 're, 've, 'm, 'll, 'd 以及后面可选的空格\n",
    "\\p{L}+                          匹配任何Unicode字母字符的序列(如英语单词)\n",
    "| ?                             或者一个可选的空格\n",
    "\\p{N}+                          匹配任何Unicode数字字符的序列(如123,3.14等) \n",
    "| ?                             或者一个可选的空格    \n",
    "[^\\s\\p{L}\\p{N}]+                匹配任何不是空白、字母或数字的字符序列(如标点符号、特殊字符等)\n",
    "|                               或者\n",
    "\\s+(?!\\S)                       匹配连续空白符(但后面不能紧跟非空白字符)\n",
    "|                               或者    \n",
    "\\s+                             匹配任何其他连续空白符\n",
    "\"\"\"\n",
    "```\n"
   ]
  },
  {
   "cell_type": "code",
   "execution_count": 3,
   "metadata": {},
   "outputs": [],
   "source": [
    "# NOTE: `'s|'t|'re|'ve|'m|'ll|'d` is a not good implementation\n",
    "# fixed in GPT3\n",
    "gpt2pat = re.compile(r\"\"\"'s|'t|'re|'ve|'m|'ll|'d| ?\\p{L}+| ?\\p{N}+| ?[^\\s\\p{L}\\p{N}]+|\\s+(?!\\S)|\\s+\"\"\")"
   ]
  },
  {
   "cell_type": "code",
   "execution_count": 6,
   "metadata": {},
   "outputs": [
    {
     "name": "stdout",
     "output_type": "stream",
     "text": [
      "\u001b[93m<module> -> re.findall(gpt2pat, \"Hello've world123 how's HOW'S are you!!!?    \"):\u001b[0m\n",
      "['Hello',\n",
      " \"'ve\",\n",
      " ' world',\n",
      " '123',\n",
      " ' how',\n",
      " \"'s\",\n",
      " ' HOW',\n",
      " \"'\",\n",
      " 'S',\n",
      " ' are',\n",
      " ' you',\n",
      " '!!!?',\n",
      " '    ']\n"
     ]
    }
   ],
   "source": [
    "cprint(re.findall(gpt2pat, \"Hello've world123 how's HOW'S are you!!!?    \"))"
   ]
  },
  {
   "cell_type": "code",
   "execution_count": 7,
   "metadata": {},
   "outputs": [
    {
     "name": "stdout",
     "output_type": "stream",
     "text": [
      "\u001b[93m<module> -> re.findall(gpt2pat, example):\u001b[0m\n",
      "['\\n',\n",
      " 'for',\n",
      " ' i',\n",
      " ' in',\n",
      " ' range',\n",
      " '(',\n",
      " '1',\n",
      " ',',\n",
      " ' 101',\n",
      " '):',\n",
      " '\\n   ',\n",
      " ' if',\n",
      " ' i',\n",
      " ' %',\n",
      " ' 3',\n",
      " ' ==',\n",
      " ' 0',\n",
      " ' and',\n",
      " ' i',\n",
      " ' %',\n",
      " ' 5',\n",
      " ' ==',\n",
      " ' 0',\n",
      " ':',\n",
      " '\\n       ',\n",
      " ' print',\n",
      " '(\"',\n",
      " 'FizzBuzz',\n",
      " '\")',\n",
      " '\\n   ',\n",
      " ' elif',\n",
      " ' i',\n",
      " ' %',\n",
      " ' 3',\n",
      " ' ==',\n",
      " ' 0',\n",
      " ':',\n",
      " '\\n       ',\n",
      " ' print',\n",
      " '(\"',\n",
      " 'Fizz',\n",
      " '\")',\n",
      " '\\n   ',\n",
      " ' elif',\n",
      " ' i',\n",
      " ' %',\n",
      " ' 5',\n",
      " ' ==',\n",
      " ' 0',\n",
      " ':',\n",
      " '\\n       ',\n",
      " ' print',\n",
      " '(\"',\n",
      " 'Buzz',\n",
      " '\")',\n",
      " '\\n   ',\n",
      " ' else',\n",
      " ':',\n",
      " '\\n       ',\n",
      " ' print',\n",
      " '(',\n",
      " 'i',\n",
      " ')',\n",
      " '\\n']\n"
     ]
    }
   ],
   "source": [
    "example = \"\"\"\n",
    "for i in range(1, 101):\n",
    "    if i % 3 == 0 and i % 5 == 0:\n",
    "        print(\"FizzBuzz\")\n",
    "    elif i % 3 == 0:\n",
    "        print(\"Fizz\")\n",
    "    elif i % 5 == 0:\n",
    "        print(\"Buzz\")\n",
    "    else:\n",
    "        print(i)\n",
    "\"\"\"\n",
    "cprint(re.findall(gpt2pat, example))"
   ]
  },
  {
   "cell_type": "markdown",
   "metadata": {},
   "source": [
    "# EDA of GPT2's tokenizer"
   ]
  },
  {
   "cell_type": "code",
   "execution_count": 8,
   "metadata": {},
   "outputs": [],
   "source": [
    "import os, json\n",
    "\n",
    "\n",
    "# ~equivalent to our \"vocab\"\n",
    "with open('./data/encoder.json', 'r') as f:\n",
    "    encoder = json.load(f) \n",
    "\n",
    "\n",
    "# ~equivalent to our \"merges\"\n",
    "with open('./data/vocab.bpe', 'r', encoding=\"utf-8\") as f:\n",
    "    bpe_data = f.read()\n",
    "\n",
    "\n",
    "bpe_merges = [tuple(merge_str.split()) for merge_str in bpe_data.split('\\n')[1:-1]]"
   ]
  },
  {
   "cell_type": "code",
   "execution_count": 9,
   "metadata": {},
   "outputs": [
    {
     "name": "stdout",
     "output_type": "stream",
     "text": [
      "\u001b[93m<module> -> len(encoder):\u001b[0m\n",
      "50257\n",
      "\u001b[93m<module> -> encoder['<|endoftext|>']:\u001b[0m\n",
      "50256\n"
     ]
    }
   ],
   "source": [
    "# 50257 = utf-8 (256) + 5k merges + 1 special tokens\n",
    "cprint(len(encoder), encoder['<|endoftext|>'])"
   ]
  }
 ],
 "metadata": {
  "kernelspec": {
   "display_name": "torch",
   "language": "python",
   "name": "python3"
  },
  "language_info": {
   "codemirror_mode": {
    "name": "ipython",
    "version": 3
   },
   "file_extension": ".py",
   "mimetype": "text/x-python",
   "name": "python",
   "nbconvert_exporter": "python",
   "pygments_lexer": "ipython3",
   "version": "3.11.9"
  }
 },
 "nbformat": 4,
 "nbformat_minor": 2
}
